{
 "cells": [
  {
   "cell_type": "code",
   "execution_count": 1,
   "metadata": {},
   "outputs": [],
   "source": [
    "from urllib.request import urlopen\n",
    "from bs4 import BeautifulSoup\n",
    "import ssl"
   ]
  },
  {
   "cell_type": "code",
   "execution_count": 2,
   "metadata": {},
   "outputs": [],
   "source": [
    "ctx = ssl.create_default_context()\n",
    "ctx.check_hostname = False\n",
    "ctx.verify_mode = ssl.CERT_NONE\n",
    "\n",
    "url=\"http://py4e-data.dr-chuck.net/known_by_Shivani.html\""
   ]
  },
  {
   "cell_type": "code",
   "execution_count": 6,
   "metadata": {},
   "outputs": [
    {
     "name": "stdout",
     "output_type": "stream",
     "text": [
      "http://py4e-data.dr-chuck.net/known_by_Meghan.html\n",
      "http://py4e-data.dr-chuck.net/known_by_Martyna.html\n",
      "http://py4e-data.dr-chuck.net/known_by_Annalisa.html\n",
      "http://py4e-data.dr-chuck.net/known_by_Darwyn.html\n",
      "http://py4e-data.dr-chuck.net/known_by_Shreeram.html\n",
      "http://py4e-data.dr-chuck.net/known_by_Sanjay.html\n",
      "http://py4e-data.dr-chuck.net/known_by_Mira.html\n"
     ]
    }
   ],
   "source": [
    "n=7\n",
    "while(n>0):\n",
    "    html=urlopen(url, context=ctx).read()\n",
    "    soup=BeautifulSoup(html, 'html.parser')\n",
    "    #print(soup)\n",
    "    tags=soup.findAll('a')\n",
    "    #for tag in tags:\n",
    "    #print(tag.get('href', None))\n",
    "    print(tags[17].get('href',None))\n",
    "    url=tags[17].get('href',None)\n",
    "    n=n-1"
   ]
  },
  {
   "cell_type": "code",
   "execution_count": null,
   "metadata": {},
   "outputs": [],
   "source": []
  }
 ],
 "metadata": {
  "kernelspec": {
   "display_name": "Python 3",
   "language": "python",
   "name": "python3"
  },
  "language_info": {
   "codemirror_mode": {
    "name": "ipython",
    "version": 3
   },
   "file_extension": ".py",
   "mimetype": "text/x-python",
   "name": "python",
   "nbconvert_exporter": "python",
   "pygments_lexer": "ipython3",
   "version": "3.7.6"
  }
 },
 "nbformat": 4,
 "nbformat_minor": 4
}
