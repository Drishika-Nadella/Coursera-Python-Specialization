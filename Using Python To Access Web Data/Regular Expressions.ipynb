{
 "cells": [
  {
   "cell_type": "code",
   "execution_count": null,
   "metadata": {},
   "outputs": [],
   "source": [
    "import re\n",
    "url=open(\"Week2AssignmentText.txt\")\n",
    "number_list=list()\n",
    "for line in url:\n",
    "  line=line.rstrip()\n",
    "  y=re.findall(\"[0-9]+\", line)\n",
    "  for i in y:\n",
    "    number_list.append(i)\n",
    "sum=0\n",
    "for item in number_list:\n",
    "  sum=sum+int(item)\n",
    "print(sum)"
   ]
  }
 ],
 "metadata": {
  "kernelspec": {
   "display_name": "Python 3",
   "language": "python",
   "name": "python3"
  },
  "language_info": {
   "codemirror_mode": {
    "name": "ipython",
    "version": 3
   },
   "file_extension": ".py",
   "mimetype": "text/x-python",
   "name": "python",
   "nbconvert_exporter": "python",
   "pygments_lexer": "ipython3",
   "version": "3.7.6"
  }
 },
 "nbformat": 4,
 "nbformat_minor": 4
}
